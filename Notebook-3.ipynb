{
 "cells": [
  {
   "cell_type": "code",
   "execution_count": 8,
   "metadata": {},
   "outputs": [
    {
     "ename": "SyntaxError",
     "evalue": "invalid syntax (<ipython-input-8-3c7d96aa6ef2>, line 1)",
     "output_type": "error",
     "traceback": [
      "\u001b[0;36m  File \u001b[0;32m\"<ipython-input-8-3c7d96aa6ef2>\"\u001b[0;36m, line \u001b[0;32m1\u001b[0m\n\u001b[0;31m    Ejercicio 3\u001b[0m\n\u001b[0m              ^\u001b[0m\n\u001b[0;31mSyntaxError\u001b[0m\u001b[0;31m:\u001b[0m invalid syntax\n"
     ]
    }
   ],
   "source": [
    "NOTEBOOK 3\n",
    "\n",
    "Angelo Escobar Palacios"
   ]
  },
  {
   "cell_type": "code",
   "execution_count": null,
   "metadata": {},
   "outputs": [],
   "source": [
    "#EJERCICIO 1\n",
    "\n",
    "1)  CREATE DATABASE valdivia;\n",
    "    CREATE TABLE persona(pk_RUT INT AUTO_INCREMENT, Nombre VARCHAR(30),Edad INT,PRIMARY KEY(pk_RUT));\n",
    "    CREATE TABLE lugar_de_interes(pk_Lugar INT AUTO_INCREMENT,Descripcion VARCHAR(30),Categoria VARCHAR(15),Latitud FLOAT,Longitud FLOAT,PRIMARY KEY(pk_Lugar));\n",
    "    CREATE TABLE desplazarse(pk_RUT INT NOT NULL,FOREIGN KEY fk_rut(pk_RUT) REFERENCES persona(pk_RUT),fecha DATETIME,Latitud FLOAT,Longitud FLOAT,PRIMARY KEY(pk_RUT));"
   ]
  },
  {
   "cell_type": "code",
   "execution_count": null,
   "metadata": {},
   "outputs": [],
   "source": [
    "#EJERCICIO 1\n",
    "\n",
    "2)  INSERT INTO persona(Nombre,Edad) VALUES (\"Gonzalo-Nichan\",20),(\"HeinzSiano\",20),(\"Angelo\",20),(\"Chungo\",21),(\"El Kenny\",21);\n",
    "    INSERT INTO lugar_de_interes(Descripcion,Categoria,Latitud,Longitud) VALUES (\"lugar de estudio\",\"Estudio\",-21.23,213.3),(\"laboratorio curiñanco\",\"Estudio\",-76.23,93.5),(\"cancha oficial de miraflores\",\"Turismo\",-67.532,861.3),(\"lugar de estudio publico\",\"Estudio\",356.21,-457.3),(\"Estadio municipal de valdivia\",\"Turismo\",874.23,-35.8);\n",
    "    INSERT INTO desplazarse(pk_RUT,Latitud,Longitud) VALUES (1,345.4,-232.4),(2,54.1,-372.6),(3,-57.7,-2.5),(4,-5.0,-32.9),(5,-78.8,-96.3);"
   ]
  },
  {
   "cell_type": "code",
   "execution_count": null,
   "metadata": {},
   "outputs": [],
   "source": [
    "#EJERCICIO 1\n",
    "\n",
    "3) Respuesta: Esta Base de Datos puede funcionar como metodo principal para la\n",
    "              gestion de la posicion en tiempo real de una persona, como por ejemplo\n",
    "              en la aplicacion movil PókemonGo."
   ]
  },
  {
   "cell_type": "code",
   "execution_count": null,
   "metadata": {},
   "outputs": [],
   "source": [
    "#EJERCICIO 2\n",
    "1)  Hacer una copia de seguridad es esencial, y mas aun en una empresa o cuando se esta haciendo uso de una\n",
    "    Base de Datos muy grande e importante.\n",
    "    \n",
    "    - Esta copia de seguridad nos sirve para recuperar nuestra Base de Datos en caso de algun imprevisto,\n",
    "      ya sea falla de la maquina,falla de el software, errores que aveces cometen los usuarios o incluso\n",
    "    algun error propio.\n",
    "    - Tambien es util para cuando el programador esta actualizando su SGBD."
   ]
  },
  {
   "cell_type": "code",
   "execution_count": null,
   "metadata": {},
   "outputs": [],
   "source": [
    "#EJERCICIO 2\n",
    "\n",
    "2) Al escribir el comando \"mysqldump\" tenemos lo siguiente:\n",
    "    \n",
    "    angelo@Razor:~$ mysqldump\n",
    "    Usage: mysqldump [OPTIONS] database [tables]\n",
    "    OR     mysqldump [OPTIONS] --databases [OPTIONS] DB1 [DB2 DB3...]\n",
    "    OR     mysqldump [OPTIONS] --all-databases [OPTIONS]\n",
    "    For more options, use mysqldump --help\n",
    "    \n",
    "    Haciendo Copia De Seguridad de la Base De Datos Valdivia:\n",
    "    \"mysqldump --user=root -p valdivia > copia_seguridad_valdivia.sql\"\n"
   ]
  },
  {
   "cell_type": "code",
   "execution_count": null,
   "metadata": {},
   "outputs": [],
   "source": [
    "#EJERCICIO 2\n",
    "\n",
    "3) - El formato de datos CSV deja nustros datos separados por una coma y nos permite analizar y trabajar con ellos\n",
    "     de la manera que queramos. Ademas nos permite intercambiar datos entre varias aplicaciones.\n",
    "    \n",
    "   - Exportaremos los datos de la tabla persona con la condicion de que el atributo Edad sea igual a 21:\n",
    "    \n",
    "**  SELECT \n",
    "    Nombre,Edad\n",
    "    FROM\n",
    "        persona\n",
    "    WHERE\n",
    "        Edad = 21 \n",
    "    INTO OUTFILE 'C:/tmp/personas_21.csv' \n",
    "    FIELDS ENCLOSED BY '\"' \n",
    "    TERMINATED BY ';' \n",
    "    ESCAPED BY '\"' \n",
    "    LINES TERMINATED BY '\\r\\n';\n",
    "**\n"
   ]
  },
  {
   "cell_type": "code",
   "execution_count": null,
   "metadata": {},
   "outputs": [],
   "source": [
    "#EJERCICIO 3\n",
    "\n",
    "1)  El usuario puede realizar todas estas acciones en la Base de Datos:\n",
    "    \n",
    "    * Procesar objetos de base de datos\n",
    "    * Leer datos de base de datos.\n",
    "    * Leer metadatos de base de datos.\n",
    "    * Agregar usuarios a funciones de base de datos existentes.\n",
    "    * Crear funciones de base de datos nuevas.\n",
    "    * Definir permisos para funciones de base de datos"
   ]
  },
  {
   "cell_type": "code",
   "execution_count": null,
   "metadata": {},
   "outputs": [],
   "source": [
    "#EJERCICIO 3\n",
    "\n",
    "2) El comando necesario es:\n",
    "    - CREATE USER 'angelo'@'192.168.8.102' IDENTIFIED BY '123';\n",
    "    - GRANT ALL ON valdivia.* TO 'heinz'@'192.168.8.102';"
   ]
  },
  {
   "cell_type": "code",
   "execution_count": null,
   "metadata": {},
   "outputs": [],
   "source": [
    "#EJERCICIO 3\n",
    "\n",
    "3)  CREATE USER 'heinz'@'192.168.8.102' IDENTIFIED BY '456';\n",
    "    GRANT SELECT ON valdivia.lugar_de_interes TO 'heinz'@'192.168.8.102';\n",
    "    GRANT SELECT ON valdivia.desplazarse TO 'heinz'@'192.168.8.102';"
   ]
  },
  {
   "cell_type": "code",
   "execution_count": null,
   "metadata": {},
   "outputs": [],
   "source": [
    "#EJERCICIO 4\n",
    "\n",
    "1)ALTER TABLE persona ADD COLUMN nivel_de_estudio VARCHAR(15);"
   ]
  },
  {
   "cell_type": "code",
   "execution_count": null,
   "metadata": {},
   "outputs": [],
   "source": [
    "#EJERCICIO 4\n",
    "\n",
    "2)  CREATE TABLE categoria (pk_categoria VARCHAR(30) NOT NULL,PRIMARY KEY(pk_categoria));\n",
    "    ALTER TABLE lugar_de_interes CHANGE COLUMN categoria  categoria VARCHAR(30) UNIQUE;\n",
    "    ALTER TABLE lugar_de_interes ADD FOREIGN KEY fk_categoria(categoria) REFERENCES categoria(pk_categoria);\n",
    "    "
   ]
  },
  {
   "cell_type": "code",
   "execution_count": null,
   "metadata": {},
   "outputs": [],
   "source": [
    "#EJERCICIO 4\n",
    "\n",
    "3)  // Tabla desplazarse:\n",
    "        \n",
    "        ALTER TABLE lugar_de_interes CHANGE COLUMN Latitud Latitud FLOAT NOT NULL;\n",
    "        ALTER TABLE lugar_de_interes CHANGE COLUMN Longitud Longitud FLOAT NOT NULL;\n",
    "\n",
    "    // Tabla lugar_de_interes:\n",
    "        \n",
    "        ALTER TABLE lugar_de_interes CHANGE COLUMN Latitud Latitud FLOAT NOT NULL;\n",
    "        ALTER TABLE lugar_de_interes CHANGE COLUMN Longitud Longitud FLOAT NOT NULL;"
   ]
  }
 ],
 "metadata": {
  "kernelspec": {
   "display_name": "Python 3",
   "language": "python",
   "name": "python3"
  },
  "language_info": {
   "codemirror_mode": {
    "name": "ipython",
    "version": 2
   },
   "file_extension": ".py",
   "mimetype": "text/x-python",
   "name": "python",
   "nbconvert_exporter": "python",
   "pygments_lexer": "ipython2",
   "version": "2.7.12"
  }
 },
 "nbformat": 4,
 "nbformat_minor": 2
}
